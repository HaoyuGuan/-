{
 "cells": [
  {
   "cell_type": "code",
   "execution_count": 25,
   "metadata": {
    "collapsed": true
   },
   "outputs": [],
   "source": [
    "import os\n",
    "from torch.utils.data import Dataset,DataLoader\n",
    "import torch\n",
    "from torch import nn\n",
    "from sklearn.metrics import f1_score,recall_score,precision_score"
   ]
  },
  {
   "cell_type": "code",
   "execution_count": 26,
   "outputs": [],
   "source": [
    "def build_dict(lists):\n",
    "    f={}\n",
    "    for _list in lists:\n",
    "        for item in _list:\n",
    "            if item not in f:\n",
    "                f[item]=len(f)\n",
    "    return f\n",
    "\n",
    "def build_corpus(dataset):\n",
    "    if dataset=='train':\n",
    "        word_lists = []\n",
    "        tag_lists = []\n",
    "        with open('./data/demo.train.char','r',encoding='utf-8') as f:\n",
    "            word_list,tag_list=[],[]\n",
    "            for line in f:\n",
    "                if line != '\\n':\n",
    "                        word, tag = line.strip('\\n').split(' ')\n",
    "                        word_list.append(word)\n",
    "                        tag_list.append(tag)\n",
    "                else:\n",
    "                    word_lists.append(word_list)\n",
    "                    tag_lists.append(tag_list)\n",
    "                    word_list,tag_list=[],[]\n",
    "        word_lists.sort(key=lambda x: len(x), reverse=True)\n",
    "        tag_lists.sort(key=lambda x: len(x), reverse=True)\n",
    "\n",
    "        # print(word_lists,tag_lists)\n",
    "\n",
    "        word2index=build_dict(word_lists)\n",
    "        tag2index=build_dict(tag_lists)\n",
    "        word2index['<UNK>']=len(word2index)\n",
    "        word2index['<PAD>']=len(word2index)\n",
    "        tag2index['<PAD>']=len(tag2index)\n",
    "        index2word=dict((word2index[key], key) for key in word2index)\n",
    "        index2tag=dict((tag2index[key], key) for key in tag2index)\n",
    "        return word_lists,tag_lists,word2index,tag2index,index2word,index2tag\n",
    "    elif dataset=='test':\n",
    "        word_lists = []\n",
    "        tag_lists = []\n",
    "        with open('./data/demo.test.char','r',encoding='utf-8') as f:\n",
    "            word_list,tag_list=[],[]\n",
    "            for line in f:\n",
    "                if line != '\\n':\n",
    "                        word, tag = line.strip('\\n').split(' ')\n",
    "                        word_list.append(word)\n",
    "                        tag_list.append(tag)\n",
    "                else:\n",
    "                    word_lists.append(word_list)\n",
    "                    tag_lists.append(tag_list)\n",
    "                    word_list,tag_list=[],[]\n",
    "        word_lists.sort(key=lambda x: len(x), reverse=True)\n",
    "        tag_lists.sort(key=lambda x: len(x), reverse=True)\n",
    "        return word_lists,tag_lists"
   ],
   "metadata": {
    "collapsed": false,
    "pycharm": {
     "name": "#%%\n"
    }
   }
  },
  {
   "cell_type": "code",
   "execution_count": 27,
   "outputs": [],
   "source": [
    "class MyDataset(Dataset):\n",
    "    def __init__(self, _word_lists, _tag_lists, _word2index: dict, _tag2index: dict):\n",
    "        super().__init__()\n",
    "        self.word_lists=_word_lists\n",
    "        self.tag_lists=_tag_lists\n",
    "        self.word2index=_word2index\n",
    "        self.tag2index=_tag2index\n",
    "\n",
    "    def __len__(self):\n",
    "        return len(self.word_lists)\n",
    "\n",
    "    def __getitem__(self, index):\n",
    "        word_list=self.word_lists[index]\n",
    "        tag_list=self.tag_lists[index]\n",
    "        word_index=[self.word2index.get(i,self.word2index[\"<UNK>\"]) for i in word_list]\n",
    "        tag_index=[self.tag2index[i] for i in tag_list]\n",
    "        return word_index,tag_index\n",
    "\n",
    "    def pro_batch_data(self,batch_datas):\n",
    "        global device\n",
    "        lenth=len(batch_datas[0][0])\n",
    "        datas,tags=[],[]\n",
    "        for data,tag in batch_datas:\n",
    "            datas.append(data)\n",
    "            tags.append(tag)\n",
    "\n",
    "        datas = [i + [self.word2index[\"<PAD>\"]] * (lenth - len(i)) for i in datas]\n",
    "        tags = [i + [self.tag2index[\"<PAD>\"]] * (lenth - len(i)) for i in tags]\n",
    "\n",
    "        return torch.tensor(datas,dtype=torch.int64,device=device),torch.tensor(tags,dtype=torch.int64,device=device)"
   ],
   "metadata": {
    "collapsed": false,
    "pycharm": {
     "name": "#%%\n"
    }
   }
  },
  {
   "cell_type": "code",
   "execution_count": 28,
   "outputs": [],
   "source": [
    "class BiLstm(nn.Module):\n",
    "    def __init__(self,corpus_num,embedding_num,hidden_num,class_num,bi=True):\n",
    "        super().__init__()\n",
    "        self.embedding = nn.Embedding(corpus_num,embedding_num)\n",
    "        self.lstm = nn.LSTM(embedding_num,hidden_num,batch_first=True,bidirectional=bi)\n",
    "        if bi:\n",
    "            self.fc=nn.Linear(hidden_num*2,class_num)\n",
    "        else:\n",
    "            self.fc=nn.Linear(hidden_num,class_num)\n",
    "\n",
    "    def forward(self, batch_data):\n",
    "        embedding=self.embedding(batch_data)\n",
    "        out,_=self.lstm(embedding)\n",
    "        return self.fc(out)"
   ],
   "metadata": {
    "collapsed": false,
    "pycharm": {
     "name": "#%%\n"
    }
   }
  },
  {
   "cell_type": "code",
   "execution_count": 29,
   "outputs": [],
   "source": [
    "word_lists,tag_lists,word2index,tag2index,index2word,index2tag=build_corpus('train')\n",
    "device='cuda:0'\n",
    "batch_size=32\n",
    "train_dataset = MyDataset(word_lists,tag_lists,word2index,tag2index)\n",
    "train_dataloader = DataLoader(train_dataset,batch_size,shuffle=False,collate_fn=train_dataset.pro_batch_data)\n",
    "lr=0.005\n",
    "epochs=30\n",
    "\n"
   ],
   "metadata": {
    "collapsed": false,
    "pycharm": {
     "name": "#%%\n"
    }
   }
  },
  {
   "cell_type": "code",
   "execution_count": 30,
   "outputs": [],
   "source": [
    "test_word_lists,test_tag_lists=build_corpus('test')\n",
    "\n",
    "test_dataset = MyDataset(test_word_lists,test_tag_lists,word2index,tag2index)\n",
    "test_dataloader = DataLoader(test_dataset,batch_size,shuffle=False,collate_fn=test_dataset.pro_batch_data)"
   ],
   "metadata": {
    "collapsed": false,
    "pycharm": {
     "name": "#%%\n"
    }
   }
  },
  {
   "cell_type": "code",
   "execution_count": 31,
   "outputs": [
    {
     "name": "stdout",
     "output_type": "stream",
     "text": [
      "epoch: 1, loss: 1.0569\n",
      "epoch: 2, loss: 0.5176\n",
      "epoch: 3, loss: 0.3421\n",
      "epoch: 4, loss: 0.2117\n",
      "epoch: 5, loss: 0.1343\n",
      "epoch: 6, loss: 0.0886\n",
      "epoch: 7, loss: 0.0643\n",
      "epoch: 8, loss: 0.0491\n",
      "epoch: 9, loss: 0.0376\n",
      "epoch: 10, loss: 0.0290\n",
      "epoch: 11, loss: 0.0225\n",
      "epoch: 12, loss: 0.0196\n",
      "epoch: 13, loss: 0.0133\n",
      "epoch: 14, loss: 0.0082\n",
      "epoch: 15, loss: 0.0057\n",
      "epoch: 16, loss: 0.0042\n",
      "epoch: 17, loss: 0.0034\n",
      "epoch: 18, loss: 0.0027\n",
      "epoch: 19, loss: 0.0022\n",
      "epoch: 20, loss: 0.0019\n",
      "epoch: 21, loss: 0.0019\n",
      "epoch: 22, loss: 0.0018\n",
      "epoch: 23, loss: 0.0013\n",
      "epoch: 24, loss: 0.0011\n",
      "epoch: 25, loss: 0.0009\n",
      "epoch: 26, loss: 0.0009\n",
      "epoch: 27, loss: 0.0007\n",
      "epoch: 28, loss: 0.0006\n",
      "epoch: 29, loss: 0.0006\n",
      "epoch: 30, loss: 0.0005\n"
     ]
    }
   ],
   "source": [
    "model=BiLstm(len(word2index),100,100,len(tag2index)).to(device)\n",
    "model.train()\n",
    "loss=nn.CrossEntropyLoss()\n",
    "opt=torch.optim.Adam(model.parameters(), lr=lr)\n",
    "\n",
    "loss_list,f1_list=[],[]\n",
    "for epoch in range(epochs):\n",
    "    all_loss=0\n",
    "    model.train()\n",
    "    for word,tag in train_dataloader:\n",
    "\n",
    "        opt.zero_grad()\n",
    "        tag_hat=model.forward(word)\n",
    "        l=loss(tag_hat.reshape(-1,len(tag2index)),tag.reshape(-1,1).squeeze())\n",
    "        l.backward()\n",
    "        opt.step()\n",
    "        all_loss+=l.item()\n",
    "    model.eval()\n",
    "    with torch.no_grad():\n",
    "        all_pre,all_tag=[],[]\n",
    "        for word,tag in test_dataloader:\n",
    "            tag_hat=model.forward(word)\n",
    "            all_pre.extend(tag_hat.argmax(2).reshape(-1).detach().cpu().numpy().tolist())\n",
    "            all_tag.extend(tag.reshape(-1).detach().cpu().numpy().tolist())\n",
    "        f1=f1_score(all_tag,all_pre,average=\"micro\")\n",
    "    f1_list.append(f1)\n",
    "    loss_list.append(all_loss/len(train_dataloader))\n",
    "    print(f'epoch: {epoch+1}, loss: {all_loss/len(train_dataloader):.4f}')"
   ],
   "metadata": {
    "collapsed": false,
    "pycharm": {
     "name": "#%%\n"
    }
   }
  },
  {
   "cell_type": "code",
   "execution_count": 32,
   "outputs": [
    {
     "name": "stdout",
     "output_type": "stream",
     "text": [
      "0.9390482398956975\n"
     ]
    }
   ],
   "source": [
    "\n",
    "model.eval()\n",
    "all_pre,all_tag=[],[]\n",
    "for word,tag in test_dataloader:\n",
    "    tag_hat=model.forward(word)\n",
    "    all_pre.extend(tag_hat.argmax(2).reshape(-1).detach().cpu().numpy().tolist())\n",
    "    all_tag.extend(tag.reshape(-1).detach().cpu().numpy().tolist())\n",
    "f1=f1_score(all_tag,all_pre,labels=list(range(len(tag2index))),average=\"micro\")\n",
    "print(f1)"
   ],
   "metadata": {
    "collapsed": false,
    "pycharm": {
     "name": "#%%\n"
    }
   }
  },
  {
   "cell_type": "code",
   "execution_count": 33,
   "outputs": [
    {
     "name": "stdout",
     "output_type": "stream",
     "text": [
      "北 B-GPE\n",
      "京 E-GPE\n",
      "中 B-GPE\n",
      "国 E-GPE\n"
     ]
    }
   ],
   "source": [
    "s=input()\n",
    "a=[word2index.get(i, word2index['<UNK>']) for i in s]\n",
    "word=torch.tensor(a,dtype=torch.int64,device=device).unsqueeze(0)\n",
    "tag_hat=model.forward(word)\n",
    "tag_hat=tag_hat.reshape(-1,tag_hat.shape[-1])\n",
    "word=word.reshape(-1)\n",
    "pre=tag_hat.argmax(1)\n",
    "for id,item in enumerate(pre):\n",
    "    item=item.item()\n",
    "    if item and index2tag[item]!='<PAD>':\n",
    "        print(index2word[word[id].item()],index2tag[item])"
   ],
   "metadata": {
    "collapsed": false,
    "pycharm": {
     "name": "#%%\n"
    }
   }
  },
  {
   "cell_type": "code",
   "execution_count": 34,
   "outputs": [],
   "source": [
    "# torch.save(model,'bilstm.pth')"
   ],
   "metadata": {
    "collapsed": false,
    "pycharm": {
     "name": "#%%\n"
    }
   }
  },
  {
   "cell_type": "code",
   "execution_count": 36,
   "outputs": [
    {
     "data": {
      "text/plain": "<Figure size 432x288 with 1 Axes>",
      "image/png": "[encoded data removed]"
     },
     "metadata": {
      "needs_background": "light"
     },
     "output_type": "display_data"
    }
   ],
   "source": [
    "from matplotlib import pyplot as plt\n",
    "plt.xlabel('epoch',color='white')\n",
    "plt.ylabel('',color='white')\n",
    "x=list(range(1,epochs+1))\n",
    "plt.plot(x,loss_list,label='loss')\n",
    "plt.legend()\n",
    "plt.show()"
   ],
   "metadata": {
    "collapsed": false,
    "pycharm": {
     "name": "#%%\n"
    }
   }
  }
 ],
 "metadata": {
  "kernelspec": {
   "display_name": "Python 3",
   "language": "python",
   "name": "python3"
  },
  "language_info": {
   "codemirror_mode": {
    "name": "ipython",
    "version": 2
   },
   "file_extension": ".py",
   "mimetype": "text/x-python",
   "name": "python",
   "nbconvert_exporter": "python",
   "pygments_lexer": "ipython2",
   "version": "2.7.6"
  }
 },
 "nbformat": 4,
 "nbformat_minor": 0
}